{
  "nbformat": 4,
  "nbformat_minor": 0,
  "metadata": {
    "colab": {
      "provenance": [],
      "authorship_tag": "ABX9TyO6/nC2QXaA6y3xMKJQ06iz",
      "include_colab_link": true
    },
    "kernelspec": {
      "name": "python3",
      "display_name": "Python 3"
    },
    "language_info": {
      "name": "python"
    }
  },
  "cells": [
    {
      "cell_type": "markdown",
      "metadata": {
        "id": "view-in-github",
        "colab_type": "text"
      },
      "source": [
        "<a href=\"https://colab.research.google.com/github/shubhamrai1318/Clusterring_Using_Income_Spent/blob/main/Clusterring_Using_Income_Spent.ipynb\" target=\"_parent\"><img src=\"https://colab.research.google.com/assets/colab-badge.svg\" alt=\"Open In Colab\"/></a>"
      ]
    },
    {
      "cell_type": "markdown",
      "source": [
        "### **Clusterring Using Income Spent**"
      ],
      "metadata": {
        "id": "YdQod_IZwn-5"
      }
    },
    {
      "cell_type": "markdown",
      "source": [
        "### **Importing the basic libraries**"
      ],
      "metadata": {
        "id": "0lV_-hQAwwej"
      }
    },
    {
      "cell_type": "code",
      "source": [
        "import pandas as pd\n",
        "import numpy as np\n",
        "import matplotlib.pyplot as plt"
      ],
      "metadata": {
        "id": "dA2cP1tqxMYa"
      },
      "execution_count": 1,
      "outputs": []
    }
  ]
}